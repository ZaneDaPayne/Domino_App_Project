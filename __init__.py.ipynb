{
 "cells": [
  {
   "cell_type": "code",
   "execution_count": null,
   "metadata": {},
   "outputs": [],
   "source": [
    "from pythonforandroid.toolchain import Recipe, shprint, current_directory\n",
    "from os.path import exists, join\n",
    "import sh\n",
    "import glob\n",
    "\n",
    "\n",
    "class skimage(Recipe):\n",
    "    version = 'cba2d2397f9ee986e7cfad264390b217'\n",
    "    url = 'scikit-image-0.12.3.tar.gz'\n",
    "\n",
    "    depends = ['python3', 'numpy','scipy']  # A list of any other recipe names\n",
    "                                    # that must be built before this\n",
    "                                    # one\n",
    "\n",
    "    conflicts = []  # A list of any recipe names that cannot be built\n",
    "                    # alongside this one\n",
    "\n",
    "    def get_recipe_env(self, arch):\n",
    "        env = super().get_recipe_env(arch)\n",
    "        # Manipulate the env here if you want\n",
    "        env['NDK'] = self.ctx.ndk_dir #Don't know if this should be here\n",
    "        return env\n",
    "\n",
    "    def should_build(self, arch):\n",
    "        # Add a check for whether the recipe is already built if you\n",
    "        # want, and return False if it is.\n",
    "        return True\n",
    "\n",
    "    def prebuild_arch(self, arch):\n",
    "        super().prebuild_arch(self)\n",
    "\n",
    "    def build_arch(self, arch):\n",
    "        super().build_arch(self)\n",
    "        # Build the code. Make sure to use the right build dir, e.g.\n",
    "\n",
    "    def postbuild_arch(self, arch):\n",
    "        super().prebuild_arch(self)\n",
    "recipe = skimage()"
   ]
  }
 ],
 "metadata": {
  "kernelspec": {
   "display_name": "Python 3",
   "language": "python",
   "name": "python3"
  },
  "language_info": {
   "codemirror_mode": {
    "name": "ipython",
    "version": 3
   },
   "file_extension": ".py",
   "mimetype": "text/x-python",
   "name": "python",
   "nbconvert_exporter": "python",
   "pygments_lexer": "ipython3",
   "version": "3.7.6"
  }
 },
 "nbformat": 4,
 "nbformat_minor": 2
}
