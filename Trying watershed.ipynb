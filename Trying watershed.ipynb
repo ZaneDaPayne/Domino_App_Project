{
 "cells": [
  {
   "cell_type": "markdown",
   "metadata": {},
   "source": [
    "Try watershed?"
   ]
  },
  {
   "cell_type": "code",
   "execution_count": null,
   "metadata": {},
   "outputs": [],
   "source": [
    "from skimage.segmentation import watershed\n",
    "from skimage.color import label2rgb\n",
    "from skimage.measure import label\n",
    "\n",
    "edges = sobel(im)\n",
    "markers = np.zeros_like(im)\n",
    "foreground, background = 1, 2\n",
    "markers[im < 30.0] = background\n",
    "markers[im > 150.0] = foreground\n",
    "ws = watershed(edges, markers)\n",
    "seg1 = label(ws == foreground)\n",
    "\n",
    "color1 = label2rgb(seg1, image=im, colors=plt.color(\"red\"), bg_label=0)\n",
    "plt.imshow(color1)"
   ]
  }
 ],
 "metadata": {
  "kernelspec": {
   "display_name": "Python 3",
   "language": "python",
   "name": "python3"
  },
  "language_info": {
   "codemirror_mode": {
    "name": "ipython",
    "version": 3
   },
   "file_extension": ".py",
   "mimetype": "text/x-python",
   "name": "python",
   "nbconvert_exporter": "python",
   "pygments_lexer": "ipython3",
   "version": "3.7.4"
  }
 },
 "nbformat": 4,
 "nbformat_minor": 2
}
