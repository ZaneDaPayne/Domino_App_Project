{
 "cells": [
  {
   "cell_type": "code",
   "execution_count": null,
   "metadata": {},
   "outputs": [],
   "source": [
    "from PIL import ImageDraw\n",
    "import PIL\n",
    "import matplotlib.pyplot as plt\n",
    "import numpy as np\n",
    "from math import sqrt\n",
    "from PIL import Image\n",
    "import cv2\n",
    "# Load image:\n",
    "input_image = PIL.Image.open(\"Dominoes.jpg\")\n",
    "input_pixels = input_image.load()\n",
    "width, height = input_image.width, input_image.height\n",
    "\n",
    "# Create output image\n",
    "output_image = PIL.Image.new(\"RGB\", input_image.size)\n",
    "draw = ImageDraw.Draw(output_image)\n",
    "\n",
    "# Convert to grayscale\n",
    "intensity = np.zeros((width, height))\n",
    "for x in range(width):\n",
    "    for y in range(height):\n",
    "        intensity[x, y] = sum(input_pixels[x, y]) / 3\n",
    "index=0\n",
    "# Compute convolution between intensity and kernels\n",
    "for x in range(1, input_image.width - 1):\n",
    "    for y in range(1, input_image.height - 1):\n",
    "        magx = intensity[x + 1, y] - intensity[x - 1, y]\n",
    "        magy = intensity[x, y + 1] - intensity[x, y - 1]\n",
    "\n",
    "        # Draw in black and white the magnitude\n",
    "        color = int(sqrt(magx**2 + magy**2))\n",
    "        draw.point((x, y), (color, color, color))\n",
    "    index = index + 1  "
   ]
  },
  {
   "cell_type": "code",
   "execution_count": null,
   "metadata": {},
   "outputs": [],
   "source": [
    "    \n",
    "#output_image.show('convoluted.png')\n",
    "#im = cv2.imread(\"convoluted.png\")\n",
    "\n",
    "#np_output_image = np.array((output_image))#np.uint8))\n",
    "#print(np_output_image)\n",
    "open_cv_image = np.array(output_image)\n",
    "# Convert RGB to BGR \n",
    "open_cv_image = open_cv_image[:, :, ::-1].copy()"
   ]
  },
  {
   "cell_type": "code",
   "execution_count": null,
   "metadata": {},
   "outputs": [],
   "source": [
    "import matplotlib.pyplot as plt\n",
    "from matplotlib.patches import Rectangle,Circle\n",
    "import cv2\n",
    "#b = abs(np.fft.rfft2(np_output_image,axes=(0,1)))\n",
    "#b = np.uint8(b)\n",
    "#im = Image.fromarray(b)\n",
    "#im_g=open_cv_image# this is bgr. I want this to be output_image     \n",
    "#b,g,r = cv2.split(im)#convert to rgb\n",
    "im_c = open_cv_image\n",
    "#imgUMat = np.float32(im_g)\n",
    "#im_g=io.imread(output_image,as_gray=True)\n",
    "im_g = cv2.cvtColor(open_cv_image, cv2.COLOR_RGB2GRAY)\n",
    "\n",
    "min_size = min(im_g.shape)*0.01\n",
    "max_size = min(im_g.shape)*0.1\n",
    "th, thresh = cv2.threshold(im_g,100,225,cv2.THRESH_BINARY_INV|cv2.THRESH_OTSU)\n",
    "contours = cv2.findContours(thresh,cv2.RETR_LIST,cv2.CHAIN_APPROX_SIMPLE)[-2]\n",
    "dots = []\n",
    "print(len(contours))\n",
    "for cnt in contours: \n",
    "    xy,radius = cv2.minEnclosingCircle(cnt)\n",
    "    x = cnt[:,0,0]\n",
    "    y = cnt[:,0,1]\n",
    "    width,height = max(x)-min(x),max(y)-min(y)\n",
    "    # bottom_left = min(x),min(y)\n",
    "    if (min_size<radius<max_size)&(min(width,height)*1.5>max(width,height)):\n",
    "        dots.append([xy,radius])\n",
    "        \n",
    "print(len(dots))       \n",
    "fig = plt.figure(figsize=(5,5))\n",
    "ax = fig.add_axes((0,0,1,1))\n",
    "ax.axis(\"off\")\n",
    "ax.imshow(im_c) # show color image\n",
    "for dot in dots:\n",
    "    xy, radius = dot\n",
    "    circ = Circle(xy,radius,fc='none',ec='yellow',lw=2)\n",
    "    ax.add_patch(circ,)\n",
    "plt.show()"
   ]
  },
  {
   "cell_type": "code",
   "execution_count": null,
   "metadata": {},
   "outputs": [],
   "source": [
    "output_image.shape"
   ]
  },
  {
   "cell_type": "code",
   "execution_count": null,
   "metadata": {},
   "outputs": [],
   "source": []
  }
 ],
 "metadata": {
  "kernelspec": {
   "display_name": "Python 3",
   "language": "python",
   "name": "python3"
  },
  "language_info": {
   "codemirror_mode": {
    "name": "ipython",
    "version": 3
   },
   "file_extension": ".py",
   "mimetype": "text/x-python",
   "name": "python",
   "nbconvert_exporter": "python",
   "pygments_lexer": "ipython3",
   "version": "3.7.6"
  }
 },
 "nbformat": 4,
 "nbformat_minor": 2
}
