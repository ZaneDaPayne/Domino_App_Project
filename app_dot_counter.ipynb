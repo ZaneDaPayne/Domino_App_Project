{
 "cells": [
  {
   "cell_type": "code",
   "execution_count": 1,
   "metadata": {},
   "outputs": [
    {
     "data": {
      "application/vnd.jupyter.widget-view+json": {
       "model_id": "5126a9e22ea542d39ea7b3659f7dee24",
       "version_major": 2,
       "version_minor": 0
      },
      "text/plain": [
       "interactive(children=(IntSlider(value=1, description='min_sigma', min=1, step=2), IntSlider(value=30, descript…"
      ]
     },
     "metadata": {},
     "output_type": "display_data"
    }
   ],
   "source": [
    "from matplotlib import pyplot as plt\n",
    "from skimage import data\n",
    "from skimage.feature import blob_dog, blob_log, blob_doh\n",
    "from math import sqrt\n",
    "from skimage.color import rgb2gray\n",
    "import glob\n",
    "from skimage.io import imread\n",
    "from ipywidgets import interact, fixed\n",
    "from skimage import io\n",
    "# instead of opening an image from a file, here it takes the output from the previous edge detection\n",
    "\n",
    "im =io.imread('dtest.jpg',as_gray=True);\n",
    "def plot_blobs(\n",
    "               min_sigma=1, \n",
    "               max_sigma=30, \n",
    "               num_sigma=2, \n",
    "               threshold=0.01, \n",
    "               overlap=0.5, \n",
    "               log_scale=False\n",
    "                ):\n",
    "    \"\"\"\n",
    "    Plot the image and the blobs that have been found.\n",
    "    \"\"\"\n",
    "#blobs = blob_doh(im, max_sigma=max_sigma, threshold=threshold)\n",
    "    blobs = blob_doh(im, \n",
    "                     min_sigma=min_sigma, \n",
    "                     max_sigma=max_sigma, \n",
    "                     num_sigma=num_sigma, \n",
    "                     threshold=threshold, \n",
    "                     overlap=overlap, \n",
    "                     log_scale=log_scale\n",
    "                            )\n",
    "    \n",
    "    fig, ax = plt.subplots(figsize=(8,8))\n",
    "    ax.set_title('Count Dots')\n",
    "    \n",
    "    plt.annotate('Dots counted = %s' % len(blobs), xy=(100, 100), fontsize=16, color='white')\n",
    "    ax.imshow(im, interpolation='nearest')\n",
    "\n",
    "    for blob in blobs:\n",
    "        y, x, r = blob\n",
    "        c = plt.Circle((x, y), r, color='yellow', linewidth=2, fill=False, label='sine')\n",
    "        ax.add_patch(c)\n",
    "\n",
    "        \n",
    "interact(plot_blobs, \n",
    "         min_sigma=(1, 100, 2), # Keep this low to detect smaller blobs. The minimum standard deviation for Gaussian Kernel used to compute Hessian matrix. \n",
    "         max_sigma=(1, 100, 2), # Keep this high to detect larger blobs.\n",
    "         num_sigma=(1, 10, 1), # The number of intermediate values of standard deviations to consider between min_sigma and max_sigma.\n",
    "         threshold=(0.001, 0.02, 0.001), # Reduce this to detect less prominent blobs. The absolute lower bound for scale space maxima. Local maxima smaller than thresh are ignored. \n",
    "         overlap=(0.001, 1, 0.001), # A value between 0 and 1. If the area of two blobs overlaps by a fraction greater than threshold, the smaller blob is eliminated.\n",
    "         log_scale=False  # If set intermediate values of standard deviations are interpolated using a logarithmic scale to the base 10. If not, linear interpolation is used.\n",
    "            ); "
   ]
  },
  {
   "cell_type": "code",
   "execution_count": null,
   "metadata": {},
   "outputs": [],
   "source": []
  }
 ],
 "metadata": {
  "kernelspec": {
   "display_name": "Python 3",
   "language": "python",
   "name": "python3"
  },
  "language_info": {
   "codemirror_mode": {
    "name": "ipython",
    "version": 3
   },
   "file_extension": ".py",
   "mimetype": "text/x-python",
   "name": "python",
   "nbconvert_exporter": "python",
   "pygments_lexer": "ipython3",
   "version": "3.7.6"
  }
 },
 "nbformat": 4,
 "nbformat_minor": 2
}
